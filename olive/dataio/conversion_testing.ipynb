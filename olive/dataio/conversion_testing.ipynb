{
 "cells": [
  {
   "cell_type": "code",
   "execution_count": 1,
   "metadata": {
    "collapsed": true
   },
   "outputs": [],
   "source": [
    "import subprocess\n",
    "from SDDS import readSDDS\n",
    "from conversions import convert_units_elegant2olive, convert_units_olive2elegant"
   ]
  },
  {
   "cell_type": "code",
   "execution_count": 2,
   "metadata": {
    "collapsed": false
   },
   "outputs": [
    {
     "data": {
      "text/plain": [
       "0"
      ]
     },
     "execution_count": 2,
     "metadata": {},
     "output_type": "execute_result"
    }
   ],
   "source": [
    "# Run Elegant\n",
    "subprocess.call(\"cd test_data/ && elegant elegant_run.ele\", shell=True)  # Returns 0 on sucess"
   ]
  },
  {
   "cell_type": "markdown",
   "metadata": {},
   "source": [
    "# Working SDDS Files\n"
   ]
  },
  {
   "cell_type": "code",
   "execution_count": 2,
   "metadata": {
    "collapsed": false
   },
   "outputs": [],
   "source": [
    "# Instantiate read objects for bunch input and ouput SDDS files\n",
    "in_sdds_file = readSDDS(\"test_data/elegant_run.bun\", verbose=True)\n",
    "out_sdds_file = readSDDS(\"test_data/elegant_run.out\", verbose=True)"
   ]
  },
  {
   "cell_type": "code",
   "execution_count": 3,
   "metadata": {
    "collapsed": false
   },
   "outputs": [
    {
     "name": "stdout",
     "output_type": "stream",
     "text": [
      "passed\n",
      "Parameter unpack size: 32 bytes \n",
      "Column unpack size: 52 bytes\n",
      "Parameter key string: =iiddii \n",
      "Column key string: =ddddddi\n",
      "Header data read and parsed.\n"
     ]
    }
   ],
   "source": [
    "in_particle_data = in_sdds_file.read_columns()"
   ]
  },
  {
   "cell_type": "code",
   "execution_count": 4,
   "metadata": {
    "collapsed": false
   },
   "outputs": [
    {
     "name": "stdout",
     "output_type": "stream",
     "text": [
      "passed\n",
      "Parameter unpack size: 32 bytes \n",
      "Column unpack size: 52 bytes\n",
      "Parameter key string: =iiddii \n",
      "Column key string: =ddddddi\n",
      "Header data read and parsed.\n"
     ]
    }
   ],
   "source": [
    "out_particle_data = out_sdds_file.read_columns()"
   ]
  },
  {
   "cell_type": "code",
   "execution_count": 5,
   "metadata": {
    "collapsed": false
   },
   "outputs": [
    {
     "data": {
      "text/plain": [
       "OrderedDict([('rowCount', 10),\n",
       "             ('Step', 1),\n",
       "             ('pCentral', 264.1883529100817),\n",
       "             ('Charge', 1.35e-10),\n",
       "             ('Particles', 10),\n",
       "             ('IDSlotsPerBunch', 10)])"
      ]
     },
     "execution_count": 5,
     "metadata": {},
     "output_type": "execute_result"
    }
   ],
   "source": [
    "out_sdds_file.read_params()"
   ]
  },
  {
   "cell_type": "code",
   "execution_count": 6,
   "metadata": {
    "collapsed": false
   },
   "outputs": [
    {
     "data": {
      "text/plain": [
       "True"
      ]
     },
     "execution_count": 6,
     "metadata": {},
     "output_type": "execute_result"
    }
   ],
   "source": [
    "# Check if arrays match exactly simulation is a zero-length drift so coordinates should not change between in and out\n",
    "np.array_equal(in_particle_data, out_particle_data)"
   ]
  },
  {
   "cell_type": "code",
   "execution_count": 7,
   "metadata": {
    "collapsed": false
   },
   "outputs": [],
   "source": [
    "# Convert elegant units to Olive\n",
    "olive_out_conversion = convert_units_elegant2olive(out_particle_data)"
   ]
  },
  {
   "cell_type": "code",
   "execution_count": 8,
   "metadata": {
    "collapsed": false
   },
   "outputs": [
    {
     "data": {
      "text/plain": [
       "array([ -9.83700252e-04,  -1.71709903e-03,  -1.28316925e-03,\n",
       "         1.58820167e-03,  -6.16746179e-05,   6.96107670e-04,\n",
       "        -3.88351988e-04,  -7.01839410e-04,   1.18372106e-03,\n",
       "         1.66780414e-03])"
      ]
     },
     "execution_count": 8,
     "metadata": {},
     "output_type": "execute_result"
    }
   ],
   "source": [
    "# Visual double check of longitudinal coordinates\n",
    "olive_out_conversion[:,4]*1e-2"
   ]
  },
  {
   "cell_type": "code",
   "execution_count": 13,
   "metadata": {
    "collapsed": false
   },
   "outputs": [
    {
     "name": "stdout",
     "output_type": "stream",
     "text": [
      "(10, 6)\n",
      "[ 0.99999283  0.99999282  0.99999284  0.99999282  0.99999283  0.99999283\n",
      "  0.99999285  0.99999285  0.99999286  0.99999283]\n"
     ]
    }
   ],
   "source": [
    "# Convert Olive units back to Elegant\n",
    "olive_back2_elegant = convert_units_olive2elegant(olive_out_conversion[:,0], olive_out_conversion[:,1],\n",
    "                                                 olive_out_conversion[:,2], olive_out_conversion[:,3],\n",
    "                                                 olive_out_conversion[:,4], olive_out_conversion[:,5])"
   ]
  },
  {
   "cell_type": "code",
   "execution_count": 14,
   "metadata": {
    "collapsed": false
   },
   "outputs": [
    {
     "data": {
      "text/plain": [
       "array([[ -2.14048958e-04,  -3.40846660e-05,   1.04426848e-04,\n",
       "          3.87973685e-06,   3.28129437e-12,   2.64063485e+02],\n",
       "       [  1.07463525e-05,   1.38243793e-05,  -2.05163954e-04,\n",
       "          1.18980670e-05,   5.72766695e-12,   2.63970421e+02],\n",
       "       [ -9.21835568e-05,   4.68808654e-08,  -3.80258229e-05,\n",
       "         -1.20649942e-05,   4.28022255e-12,   2.64195371e+02],\n",
       "       [ -6.38821081e-05,   3.55045566e-05,   8.54601205e-05,\n",
       "         -6.80448017e-06,  -5.29770856e-12,   2.63958250e+02],\n",
       "       [ -3.45842410e-05,   2.50543336e-06,  -5.61945933e-05,\n",
       "         -4.01077291e-05,   2.05725856e-13,   2.64138104e+02],\n",
       "       [  1.26946318e-04,  -3.09601694e-05,   1.51680382e-04,\n",
       "          4.06903247e-05,  -2.32198189e-12,   2.64151992e+02],\n",
       "       [  6.55456843e-05,  -2.27123426e-05,  -3.24155977e-05,\n",
       "          1.65719283e-05,   1.29541206e-12,   2.64448920e+02],\n",
       "       [  8.44385451e-05,   3.21726168e-05,   1.45089784e-04,\n",
       "         -3.03325218e-05,   2.34110102e-12,   2.64384111e+02],\n",
       "       [ -7.94549807e-05,   1.07185444e-05,  -1.01064709e-04,\n",
       "          9.99001644e-06,  -3.94849665e-12,   2.64578708e+02],\n",
       "       [  1.96476944e-04,  -7.01523327e-06,  -5.37924581e-05,\n",
       "          6.27965205e-06,  -5.56323571e-12,   2.63994166e+02]])"
      ]
     },
     "execution_count": 14,
     "metadata": {},
     "output_type": "execute_result"
    }
   ],
   "source": [
    "# Visual double check\n",
    "olive_back2_elegant"
   ]
  },
  {
   "cell_type": "code",
   "execution_count": 15,
   "metadata": {
    "collapsed": false
   },
   "outputs": [
    {
     "name": "stdout",
     "output_type": "stream",
     "text": [
      "[ True  True  True  True  True  True  True  True  True  True]\n",
      "[ True  True  True  True  True  True  True  True  True  True]\n",
      "[ True  True  True  True  True  True  True  True  True  True]\n",
      "[ True  True  True  True  True  True  True  True  True  True]\n",
      "[ True  True  True  True  True  True  True  True  True  True]\n",
      "[ True  True  True  True  True  True  True  True  True  True]\n"
     ]
    }
   ],
   "source": [
    "# Check that output data from elegant matches the elegant-to-olive-to-elegant data\n",
    "# Matches to within 1e-5 precision if element is True\n",
    "for i in range(6):\n",
    "    print np.isclose(out_particle_data[:,i], olive_back2_elegant[:,i])"
   ]
  },
  {
   "cell_type": "markdown",
   "metadata": {},
   "source": [
    "# Testing Import of Previously Broken Files"
   ]
  },
  {
   "cell_type": "code",
   "execution_count": 122,
   "metadata": {
    "collapsed": false
   },
   "outputs": [],
   "source": [
    "wp_file = readSDDS(\"test_data/bunch.wp\", verbose=True)"
   ]
  },
  {
   "cell_type": "code",
   "execution_count": 130,
   "metadata": {
    "collapsed": false
   },
   "outputs": [],
   "source": [
    "wp_par = wp_file.read_params()"
   ]
  },
  {
   "cell_type": "code",
   "execution_count": 131,
   "metadata": {
    "collapsed": false
   },
   "outputs": [
    {
     "data": {
      "text/plain": [
       "{'Charge': 1.35e-10,\n",
       " 'Description': '',\n",
       " 'ElapsedCoreTime': 0.0,\n",
       " 'ElapsedTime': 0.0,\n",
       " 'IDSlotsPerBunch': 10,\n",
       " 'MemoryUsage': 0,\n",
       " 'Particles': 10,\n",
       " 'Pass': 0,\n",
       " 'PassCentralTime': 0.0,\n",
       " 'PassLength': 0.0,\n",
       " 'PreviousElementName': 'D1',\n",
       " 'SVNVersion': '22803M',\n",
       " 'Step': 2.0,\n",
       " 'pCentral': 264.1883529100817,\n",
       " 'rowCount': 10,\n",
       " 's': 0.0}"
      ]
     },
     "execution_count": 131,
     "metadata": {},
     "output_type": "execute_result"
    }
   ],
   "source": [
    "# Parameters are read in but s is incorrect, should be s=0.0\n",
    "wp_file.parameters"
   ]
  },
  {
   "cell_type": "code",
   "execution_count": 128,
   "metadata": {
    "collapsed": false
   },
   "outputs": [],
   "source": [
    "wp_col = wp_file.read_columns()"
   ]
  },
  {
   "cell_type": "code",
   "execution_count": 129,
   "metadata": {
    "collapsed": false
   },
   "outputs": [
    {
     "data": {
      "text/plain": [
       "array([[ -2.14048958e-04,  -3.40846660e-05,   1.04426848e-04,\n",
       "          3.87973685e-06,   3.28129437e-12,   2.64063485e+02,\n",
       "          3.28129437e-12,   1.00000000e+00],\n",
       "       [  1.07463525e-05,   1.38243793e-05,  -2.05163954e-04,\n",
       "          1.18980670e-05,   5.72766695e-12,   2.63970421e+02,\n",
       "          5.72766695e-12,   2.00000000e+00],\n",
       "       [ -9.21835568e-05,   4.68808654e-08,  -3.80258229e-05,\n",
       "         -1.20649942e-05,   4.28022255e-12,   2.64195371e+02,\n",
       "          4.28022255e-12,   3.00000000e+00],\n",
       "       [ -6.38821081e-05,   3.55045566e-05,   8.54601205e-05,\n",
       "         -6.80448017e-06,  -5.29770856e-12,   2.63958250e+02,\n",
       "         -5.29770856e-12,   4.00000000e+00],\n",
       "       [ -3.45842410e-05,   2.50543336e-06,  -5.61945933e-05,\n",
       "         -4.01077291e-05,   2.05725856e-13,   2.64138104e+02,\n",
       "          2.05725856e-13,   5.00000000e+00],\n",
       "       [  1.26946318e-04,  -3.09601694e-05,   1.51680382e-04,\n",
       "          4.06903247e-05,  -2.32198189e-12,   2.64151992e+02,\n",
       "         -2.32198189e-12,   6.00000000e+00],\n",
       "       [  6.55456843e-05,  -2.27123426e-05,  -3.24155977e-05,\n",
       "          1.65719283e-05,   1.29541206e-12,   2.64448920e+02,\n",
       "          1.29541206e-12,   7.00000000e+00],\n",
       "       [  8.44385451e-05,   3.21726168e-05,   1.45089784e-04,\n",
       "         -3.03325218e-05,   2.34110102e-12,   2.64384111e+02,\n",
       "          2.34110102e-12,   8.00000000e+00],\n",
       "       [ -7.94549807e-05,   1.07185444e-05,  -1.01064709e-04,\n",
       "          9.99001644e-06,  -3.94849665e-12,   2.64578708e+02,\n",
       "         -3.94849665e-12,   9.00000000e+00],\n",
       "       [  1.96476944e-04,  -7.01523327e-06,  -5.37924581e-05,\n",
       "          6.27965205e-06,  -5.56323571e-12,   2.63994166e+02,\n",
       "         -5.56323571e-12,   1.00000000e+01]])"
      ]
     },
     "execution_count": 129,
     "metadata": {},
     "output_type": "execute_result"
    }
   ],
   "source": [
    "wp_col"
   ]
  },
  {
   "cell_type": "markdown",
   "metadata": {},
   "source": [
    "# Write out bunch to SDDS \n",
    "\n",
    "Bunch taken from elegant, converted to Olive units, converted back to elegant units, written to sdds_beam compatible bunch file."
   ]
  },
  {
   "cell_type": "code",
   "execution_count": 132,
   "metadata": {
    "collapsed": true
   },
   "outputs": [],
   "source": [
    "from SDDS import writeSDDS"
   ]
  },
  {
   "cell_type": "code",
   "execution_count": 155,
   "metadata": {
    "collapsed": true
   },
   "outputs": [],
   "source": [
    "file_out = writeSDDS()"
   ]
  },
  {
   "cell_type": "code",
   "execution_count": 156,
   "metadata": {
    "collapsed": false
   },
   "outputs": [],
   "source": [
    "for i,(dim,unit) in enumerate(zip(('x','xp','y','yp','t','p'),('m','','m','','s', 'm$be$nc'))):\n",
    "    file_out.create_column(dim, olive_back2_elegant[:,i], 'double',colUnits=unit)"
   ]
  },
  {
   "cell_type": "code",
   "execution_count": 157,
   "metadata": {
    "collapsed": false
   },
   "outputs": [],
   "source": [
    "file_out.save_sdds('write_out.sdds', dataMode='binary')"
   ]
  },
  {
   "cell_type": "code",
   "execution_count": null,
   "metadata": {
    "collapsed": true
   },
   "outputs": [],
   "source": []
  }
 ],
 "metadata": {
  "kernelspec": {
   "display_name": "Python 2",
   "language": "python",
   "name": "python2"
  },
  "language_info": {
   "codemirror_mode": {
    "name": "ipython",
    "version": 2
   },
   "file_extension": ".py",
   "mimetype": "text/x-python",
   "name": "python",
   "nbconvert_exporter": "python",
   "pygments_lexer": "ipython2",
   "version": "2.7.11"
  },
  "widgets": {
   "state": {},
   "version": "1.1.2"
  }
 },
 "nbformat": 4,
 "nbformat_minor": 0
}
